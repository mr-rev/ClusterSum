{
 "cells": [
  {
   "cell_type": "code",
   "execution_count": 4,
   "id": "czech-wichita",
   "metadata": {},
   "outputs": [],
   "source": [
    "#Importing Libraries\n",
    "import pandas as pd \n",
    "import numpy as np\n",
    "import matplotlib.pyplot as plt"
   ]
  },
  {
   "cell_type": "code",
   "execution_count": 5,
   "id": "fuzzy-ratio",
   "metadata": {},
   "outputs": [],
   "source": [
    "#Getting the dataSet\n",
    "df = pd.read_csv(\"Mall_Customers.csv\")"
   ]
  },
  {
   "cell_type": "code",
   "execution_count": 6,
   "id": "affected-aquarium",
   "metadata": {},
   "outputs": [
    {
     "name": "stdout",
     "output_type": "stream",
     "text": [
      "<class 'pandas.core.frame.DataFrame'>\n",
      "RangeIndex: 200 entries, 0 to 199\n",
      "Data columns (total 5 columns):\n",
      " #   Column                  Non-Null Count  Dtype \n",
      "---  ------                  --------------  ----- \n",
      " 0   CustomerID              200 non-null    int64 \n",
      " 1   Genre                   200 non-null    object\n",
      " 2   Age                     200 non-null    int64 \n",
      " 3   Annual Income (k$)      200 non-null    int64 \n",
      " 4   Spending Score (1-100)  200 non-null    int64 \n",
      "dtypes: int64(4), object(1)\n",
      "memory usage: 7.9+ KB\n"
     ]
    }
   ],
   "source": [
    "df.info()"
   ]
  },
  {
   "cell_type": "code",
   "execution_count": 7,
   "id": "painted-compound",
   "metadata": {},
   "outputs": [
    {
     "data": {
      "text/html": [
       "<div>\n",
       "<style scoped>\n",
       "    .dataframe tbody tr th:only-of-type {\n",
       "        vertical-align: middle;\n",
       "    }\n",
       "\n",
       "    .dataframe tbody tr th {\n",
       "        vertical-align: top;\n",
       "    }\n",
       "\n",
       "    .dataframe thead th {\n",
       "        text-align: right;\n",
       "    }\n",
       "</style>\n",
       "<table border=\"1\" class=\"dataframe\">\n",
       "  <thead>\n",
       "    <tr style=\"text-align: right;\">\n",
       "      <th></th>\n",
       "      <th>count</th>\n",
       "      <th>mean</th>\n",
       "      <th>std</th>\n",
       "      <th>min</th>\n",
       "      <th>25%</th>\n",
       "      <th>50%</th>\n",
       "      <th>75%</th>\n",
       "      <th>max</th>\n",
       "    </tr>\n",
       "  </thead>\n",
       "  <tbody>\n",
       "    <tr>\n",
       "      <th>CustomerID</th>\n",
       "      <td>200.0</td>\n",
       "      <td>100.50</td>\n",
       "      <td>57.879185</td>\n",
       "      <td>1.0</td>\n",
       "      <td>50.75</td>\n",
       "      <td>100.5</td>\n",
       "      <td>150.25</td>\n",
       "      <td>200.0</td>\n",
       "    </tr>\n",
       "    <tr>\n",
       "      <th>Age</th>\n",
       "      <td>200.0</td>\n",
       "      <td>38.85</td>\n",
       "      <td>13.969007</td>\n",
       "      <td>18.0</td>\n",
       "      <td>28.75</td>\n",
       "      <td>36.0</td>\n",
       "      <td>49.00</td>\n",
       "      <td>70.0</td>\n",
       "    </tr>\n",
       "    <tr>\n",
       "      <th>Annual Income (k$)</th>\n",
       "      <td>200.0</td>\n",
       "      <td>60.56</td>\n",
       "      <td>26.264721</td>\n",
       "      <td>15.0</td>\n",
       "      <td>41.50</td>\n",
       "      <td>61.5</td>\n",
       "      <td>78.00</td>\n",
       "      <td>137.0</td>\n",
       "    </tr>\n",
       "    <tr>\n",
       "      <th>Spending Score (1-100)</th>\n",
       "      <td>200.0</td>\n",
       "      <td>50.20</td>\n",
       "      <td>25.823522</td>\n",
       "      <td>1.0</td>\n",
       "      <td>34.75</td>\n",
       "      <td>50.0</td>\n",
       "      <td>73.00</td>\n",
       "      <td>99.0</td>\n",
       "    </tr>\n",
       "  </tbody>\n",
       "</table>\n",
       "</div>"
      ],
      "text/plain": [
       "                        count    mean        std   min    25%    50%     75%  \\\n",
       "CustomerID              200.0  100.50  57.879185   1.0  50.75  100.5  150.25   \n",
       "Age                     200.0   38.85  13.969007  18.0  28.75   36.0   49.00   \n",
       "Annual Income (k$)      200.0   60.56  26.264721  15.0  41.50   61.5   78.00   \n",
       "Spending Score (1-100)  200.0   50.20  25.823522   1.0  34.75   50.0   73.00   \n",
       "\n",
       "                          max  \n",
       "CustomerID              200.0  \n",
       "Age                      70.0  \n",
       "Annual Income (k$)      137.0  \n",
       "Spending Score (1-100)   99.0  "
      ]
     },
     "execution_count": 7,
     "metadata": {},
     "output_type": "execute_result"
    }
   ],
   "source": [
    "df.describe().T"
   ]
  },
  {
   "cell_type": "code",
   "execution_count": 8,
   "id": "remarkable-softball",
   "metadata": {},
   "outputs": [
    {
     "data": {
      "text/html": [
       "<div>\n",
       "<style scoped>\n",
       "    .dataframe tbody tr th:only-of-type {\n",
       "        vertical-align: middle;\n",
       "    }\n",
       "\n",
       "    .dataframe tbody tr th {\n",
       "        vertical-align: top;\n",
       "    }\n",
       "\n",
       "    .dataframe thead th {\n",
       "        text-align: right;\n",
       "    }\n",
       "</style>\n",
       "<table border=\"1\" class=\"dataframe\">\n",
       "  <thead>\n",
       "    <tr style=\"text-align: right;\">\n",
       "      <th></th>\n",
       "      <th>CustomerID</th>\n",
       "      <th>Genre</th>\n",
       "      <th>Age</th>\n",
       "      <th>Annual Income (k$)</th>\n",
       "      <th>Spending Score (1-100)</th>\n",
       "    </tr>\n",
       "  </thead>\n",
       "  <tbody>\n",
       "    <tr>\n",
       "      <th>0</th>\n",
       "      <td>1</td>\n",
       "      <td>Male</td>\n",
       "      <td>19</td>\n",
       "      <td>15</td>\n",
       "      <td>39</td>\n",
       "    </tr>\n",
       "    <tr>\n",
       "      <th>1</th>\n",
       "      <td>2</td>\n",
       "      <td>Male</td>\n",
       "      <td>21</td>\n",
       "      <td>15</td>\n",
       "      <td>81</td>\n",
       "    </tr>\n",
       "    <tr>\n",
       "      <th>2</th>\n",
       "      <td>3</td>\n",
       "      <td>Female</td>\n",
       "      <td>20</td>\n",
       "      <td>16</td>\n",
       "      <td>6</td>\n",
       "    </tr>\n",
       "    <tr>\n",
       "      <th>3</th>\n",
       "      <td>4</td>\n",
       "      <td>Female</td>\n",
       "      <td>23</td>\n",
       "      <td>16</td>\n",
       "      <td>77</td>\n",
       "    </tr>\n",
       "    <tr>\n",
       "      <th>4</th>\n",
       "      <td>5</td>\n",
       "      <td>Female</td>\n",
       "      <td>31</td>\n",
       "      <td>17</td>\n",
       "      <td>40</td>\n",
       "    </tr>\n",
       "  </tbody>\n",
       "</table>\n",
       "</div>"
      ],
      "text/plain": [
       "   CustomerID   Genre  Age  Annual Income (k$)  Spending Score (1-100)\n",
       "0           1    Male   19                  15                      39\n",
       "1           2    Male   21                  15                      81\n",
       "2           3  Female   20                  16                       6\n",
       "3           4  Female   23                  16                      77\n",
       "4           5  Female   31                  17                      40"
      ]
     },
     "execution_count": 8,
     "metadata": {},
     "output_type": "execute_result"
    }
   ],
   "source": [
    "df.head()"
   ]
  },
  {
   "cell_type": "code",
   "execution_count": 10,
   "id": "monetary-constitutional",
   "metadata": {},
   "outputs": [],
   "source": [
    "#Getting X and y value\n",
    "X = df.iloc[:,[3,4]].values #Getting the x value(columns[Annual Income,Spending Score])"
   ]
  },
  {
   "cell_type": "code",
   "execution_count": null,
   "id": "mathematical-electron",
   "metadata": {},
   "outputs": [],
   "source": [
    "#K-Means Clustering"
   ]
  },
  {
   "cell_type": "code",
   "execution_count": 12,
   "id": "suspected-preview",
   "metadata": {},
   "outputs": [
    {
     "data": {
      "text/plain": [
       "[269981.28,\n",
       " 181363.59595959596,\n",
       " 106348.37306211119,\n",
       " 73679.78903948834,\n",
       " 44448.45544793371,\n",
       " 37233.81451071001,\n",
       " 30259.65720728547,\n",
       " 25011.839349156595,\n",
       " 21862.09267218289,\n",
       " 19672.07284901432]"
      ]
     },
     "execution_count": 12,
     "metadata": {},
     "output_type": "execute_result"
    }
   ],
   "source": [
    "#Using the elbow method to decide the number of clusters\n",
    "from sklearn.cluster import KMeans\n",
    "wcss = []\n",
    "for i in range(1,11): #Ranging the n-clusters between 1 and 10\n",
    "    kmeans = KMeans(n_clusters=i,init=\"k-means++\",random_state=42) \n",
    "    #n_cluster:number of clusters\n",
    "    #init:function in this case k-means++ to avoid the rand_in_trap\n",
    "    #random_state:42 funny number\n",
    "    #Vivaldi Summer slaps guys!!!\n",
    "    kmeans.fit(X)\n",
    "    wcss.append(kmeans.inertia_) #Appending the wcss scores of each kmeans models\n",
    "wcss"
   ]
  },
  {
   "cell_type": "code",
   "execution_count": 14,
   "id": "upper-logistics",
   "metadata": {},
   "outputs": [
    {
     "data": {
      "image/png": "[encoded data removed]",
      "text/plain": [
       "<Figure size 432x288 with 1 Axes>"
      ]
     },
     "metadata": {
      "needs_background": "light"
     },
     "output_type": "display_data"
    }
   ],
   "source": [
    "#Plotting to find the true cluster num\n",
    "plt.plot(range(1,11),wcss)\n",
    "plt.title(\"Elbowing\")\n",
    "plt.xlabel(\"n-clusters\")\n",
    "plt.ylabel(\"WCSS\")\n",
    "plt.show()\n",
    "#n=5 looks like the true one"
   ]
  },
  {
   "cell_type": "code",
   "execution_count": 17,
   "id": "lesser-column",
   "metadata": {},
   "outputs": [],
   "source": [
    "#Training the K-Means model\n",
    "kmeansMOD = KMeans(n_clusters=5,init=\"k-means++\",random_state=42)\n",
    "y_kmeans = kmeansMOD.fit_predict(X)"
   ]
  },
  {
   "cell_type": "code",
   "execution_count": 18,
   "id": "entitled-words",
   "metadata": {},
   "outputs": [
    {
     "data": {
      "text/plain": [
       "array([2, 3, 2, 3, 2, 3, 2, 3, 2, 3, 2, 3, 2, 3, 2, 3, 2, 3, 2, 3, 2, 3,\n",
       "       2, 3, 2, 3, 2, 3, 2, 3, 2, 3, 2, 3, 2, 3, 2, 3, 2, 3, 2, 3, 2, 0,\n",
       "       2, 3, 0, 0, 0, 0, 0, 0, 0, 0, 0, 0, 0, 0, 0, 0, 0, 0, 0, 0, 0, 0,\n",
       "       0, 0, 0, 0, 0, 0, 0, 0, 0, 0, 0, 0, 0, 0, 0, 0, 0, 0, 0, 0, 0, 0,\n",
       "       0, 0, 0, 0, 0, 0, 0, 0, 0, 0, 0, 0, 0, 0, 0, 0, 0, 0, 0, 0, 0, 0,\n",
       "       0, 0, 0, 0, 0, 0, 0, 0, 0, 0, 0, 0, 0, 4, 1, 4, 0, 4, 1, 4, 1, 4,\n",
       "       0, 4, 1, 4, 1, 4, 1, 4, 1, 4, 0, 4, 1, 4, 1, 4, 1, 4, 1, 4, 1, 4,\n",
       "       1, 4, 1, 4, 1, 4, 1, 4, 1, 4, 1, 4, 1, 4, 1, 4, 1, 4, 1, 4, 1, 4,\n",
       "       1, 4, 1, 4, 1, 4, 1, 4, 1, 4, 1, 4, 1, 4, 1, 4, 1, 4, 1, 4, 1, 4,\n",
       "       1, 4], dtype=int32)"
      ]
     },
     "execution_count": 18,
     "metadata": {},
     "output_type": "execute_result"
    }
   ],
   "source": [
    "y_kmeans"
   ]
  },
  {
   "cell_type": "code",
   "execution_count": 21,
   "id": "revolutionary-jumping",
   "metadata": {},
   "outputs": [
    {
     "name": "stderr",
     "output_type": "stream",
     "text": [
      "*c* argument looks like a single numeric RGB or RGBA sequence, which should be avoided as value-mapping will have precedence in case its length matches with *x* & *y*.  Please use the *color* keyword-argument or provide a 2-D array with a single row if you intend to specify the same RGB or RGBA value for all points.\n",
      "*c* argument looks like a single numeric RGB or RGBA sequence, which should be avoided as value-mapping will have precedence in case its length matches with *x* & *y*.  Please use the *color* keyword-argument or provide a 2-D array with a single row if you intend to specify the same RGB or RGBA value for all points.\n",
      "*c* argument looks like a single numeric RGB or RGBA sequence, which should be avoided as value-mapping will have precedence in case its length matches with *x* & *y*.  Please use the *color* keyword-argument or provide a 2-D array with a single row if you intend to specify the same RGB or RGBA value for all points.\n",
      "*c* argument looks like a single numeric RGB or RGBA sequence, which should be avoided as value-mapping will have precedence in case its length matches with *x* & *y*.  Please use the *color* keyword-argument or provide a 2-D array with a single row if you intend to specify the same RGB or RGBA value for all points.\n",
      "*c* argument looks like a single numeric RGB or RGBA sequence, which should be avoided as value-mapping will have precedence in case its length matches with *x* & *y*.  Please use the *color* keyword-argument or provide a 2-D array with a single row if you intend to specify the same RGB or RGBA value for all points.\n"
     ]
    },
    {
     "data": {
      "image/png": "[encoded data removed]",
      "text/plain": [
       "<Figure size 432x288 with 1 Axes>"
      ]
     },
     "metadata": {
      "needs_background": "light"
     },
     "output_type": "display_data"
    }
   ],
   "source": [
    "#Visualising\n",
    "for i in range(0,5):\n",
    "    plt.scatter(X[y_kmeans==i,0],X[y_kmeans==i,1],s=100,c=np.random.rand(3,),label=f\"Cluster {i+1}\")\n",
    "plt.scatter(kmeansMOD.cluster_centers_[:,0],kmeansMOD.cluster_centers_[:,1],s=300,c=\"yellow\",label=\"Centroids\")\n",
    "plt.title(\"Clusters\")\n",
    "plt.xlabel(\"Income (k$)\")\n",
    "plt.ylabel(\"Spending Score(1-100)\")\n",
    "plt.legend()\n",
    "plt.show()"
   ]
  },
  {
   "cell_type": "code",
   "execution_count": 22,
   "id": "unsigned-adelaide",
   "metadata": {},
   "outputs": [],
   "source": [
    "#Hierarchical Clustering"
   ]
  },
  {
   "cell_type": "code",
   "execution_count": 25,
   "id": "looking-onion",
   "metadata": {},
   "outputs": [
    {
     "data": {
      "image/png": "[encoded data removed]",
      "text/plain": [
       "<Figure size 432x288 with 1 Axes>"
      ]
     },
     "metadata": {
      "needs_background": "light"
     },
     "output_type": "display_data"
    }
   ],
   "source": [
    "#Using Dendogram to decide the n-cluster\n",
    "import scipy.cluster.hierarchy as sch\n",
    "\n",
    "dendrogram = sch.dendrogram(sch.linkage(X,method=\"ward\"))\n",
    "plt.title(\"Dendogram\")\n",
    "plt.xlabel(\"Customers\")\n",
    "plt.ylabel(\"ED\")\n",
    "plt.show()\n",
    "\n",
    "#5 looks like the ideal cluster num"
   ]
  },
  {
   "cell_type": "code",
   "execution_count": 29,
   "id": "finished-exhaust",
   "metadata": {},
   "outputs": [
    {
     "data": {
      "text/plain": [
       "array([4, 3, 4, 3, 4, 3, 4, 3, 4, 3, 4, 3, 4, 3, 4, 3, 4, 3, 4, 3, 4, 3,\n",
       "       4, 3, 4, 3, 4, 3, 4, 3, 4, 3, 4, 3, 4, 3, 4, 3, 4, 3, 4, 3, 4, 1,\n",
       "       4, 1, 1, 1, 1, 1, 1, 1, 1, 1, 1, 1, 1, 1, 1, 1, 1, 1, 1, 1, 1, 1,\n",
       "       1, 1, 1, 1, 1, 1, 1, 1, 1, 1, 1, 1, 1, 1, 1, 1, 1, 1, 1, 1, 1, 1,\n",
       "       1, 1, 1, 1, 1, 1, 1, 1, 1, 1, 1, 1, 1, 1, 1, 1, 1, 1, 1, 1, 1, 1,\n",
       "       1, 1, 1, 1, 1, 1, 1, 1, 1, 1, 1, 1, 1, 2, 1, 2, 1, 2, 0, 2, 0, 2,\n",
       "       1, 2, 0, 2, 0, 2, 0, 2, 0, 2, 1, 2, 0, 2, 1, 2, 0, 2, 0, 2, 0, 2,\n",
       "       0, 2, 0, 2, 0, 2, 1, 2, 0, 2, 0, 2, 0, 2, 0, 2, 0, 2, 0, 2, 0, 2,\n",
       "       0, 2, 0, 2, 0, 2, 0, 2, 0, 2, 0, 2, 0, 2, 0, 2, 0, 2, 0, 2, 0, 2,\n",
       "       0, 2])"
      ]
     },
     "execution_count": 29,
     "metadata": {},
     "output_type": "execute_result"
    }
   ],
   "source": [
    "#Trining our model\n",
    "from sklearn.cluster import AgglomerativeClustering\n",
    "hc = AgglomerativeClustering(n_clusters = 5, affinity=\"euclidean\",linkage=\"ward\")\n",
    "y_hc = hc.fit_predict(X)\n",
    "y_hc"
   ]
  },
  {
   "cell_type": "code",
   "execution_count": 30,
   "id": "assigned-special",
   "metadata": {},
   "outputs": [
    {
     "name": "stdout",
     "output_type": "stream",
     "text": [
      "      \u001b[1m1\u001b[m CustomerID  Genre   Age  Annual Income (k$)  Spending Score (1-100)\n",
      "      \u001b[1m2\u001b[m 0001        Male    19   15                  39\n",
      "      \u001b[1m3\u001b[m 0002        Male    21   15                  81\n",
      "      \u001b[1m4\u001b[m 0003        Female  20   16                  6\n",
      "      \u001b[1m5\u001b[m 0004        Female  23   16                  77\n",
      "      \u001b[1m6\u001b[m 0005        Female  31   17                  40\n",
      "      \u001b[1m7\u001b[m 0006        Female  22   17                  76\n",
      "      \u001b[1m8\u001b[m 0007        Female  35   18                  6\n",
      "      \u001b[1m9\u001b[m 0008        Female  23   18                  94\n",
      "     \u001b[1m10\u001b[m 0009        Male    64   19                  3\n",
      "     \u001b[1m11\u001b[m 0010        Female  30   19                  72\n",
      "     \u001b[1m12\u001b[m 0011        Male    67   19                  14\n",
      "     \u001b[1m13\u001b[m 0012        Female  35   19                  99\n",
      "     \u001b[1m14\u001b[m 0013        Female  58   20                  15\n",
      "     \u001b[1m15\u001b[m 0014        Female  24   20                  77\n",
      "     \u001b[1m16\u001b[m 0015        Male    37   20                  13\n",
      "     \u001b[1m17\u001b[m 0016        Male    22   20                  79\n",
      "     \u001b[1m18\u001b[m 0017        Female  35   21                  35\n",
      "     \u001b[1m19\u001b[m 0018        Male    20   21                  66\n",
      "     \u001b[1m20\u001b[m 0019        Male    52   23                  29\n",
      "     \u001b[1m21\u001b[m 0020        Female  35   23                  98\n",
      "     \u001b[1m22\u001b[m 0021        Male    35   24                  35\n",
      "     \u001b[1m23\u001b[m 0022        Male    25   24                  73\n",
      "\u001b[K:\u001b[K"
     ]
    }
   ],
   "source": [
    "!column -s, -t < Mall_Customers.csv | less -#2 -N -S"
   ]
  },
  {
   "cell_type": "code",
   "execution_count": 34,
   "id": "stuffed-necessity",
   "metadata": {},
   "outputs": [
    {
     "data": {
      "image/png": "[encoded data removed]",
      "text/plain": [
       "<Figure size 432x288 with 1 Axes>"
      ]
     },
     "metadata": {
      "needs_background": "light"
     },
     "output_type": "display_data"
    }
   ],
   "source": [
    "#Visualising the clusters\n",
    "for i in range(0,5):\n",
    "    plt.scatter(X[y_hc==i,0],X[y_hc==i,1],color=np.random.rand(3,),label=f\"Cluster:{i+1}\")\n",
    "plt.xlabel(\"Income k$\")\n",
    "plt.ylabel(\"SScore\")\n",
    "plt.legend()\n",
    "plt.show()"
   ]
  },
  {
   "cell_type": "code",
   "execution_count": 38,
   "id": "pending-warrior",
   "metadata": {},
   "outputs": [
    {
     "data": {
      "image/png": "[encoded data removed]",
      "text/plain": [
       "<Figure size 432x288 with 1 Axes>"
      ]
     },
     "metadata": {
      "needs_background": "light"
     },
     "output_type": "display_data"
    }
   ],
   "source": [
    "#What if n-clusters =3 \n",
    "hc2 = AgglomerativeClustering(n_clusters=3,affinity=\"euclidean\",linkage=\"ward\")\n",
    "y_hc2 = hc2.fit_predict(X)\n",
    "\n",
    "#Visualising the clusters\n",
    "for i in range(0,3):\n",
    "    plt.scatter(X[y_hc2==i,0],X[y_hc2==i,1],color=np.random.rand(3,),label=f\"Cluster:{i+1}\")\n",
    "plt.xlabel(\"Income k$\")\n",
    "plt.ylabel(\"SScore\")\n",
    "plt.legend()\n",
    "plt.show()"
   ]
  },
  {
   "cell_type": "code",
   "execution_count": null,
   "id": "exceptional-adapter",
   "metadata": {},
   "outputs": [],
   "source": [
    "#Not very accurate n-clusters=5 look more useful\n",
    "#Targeting the CLuster 5 is a better idea for marketing"
   ]
  }
 ],
 "metadata": {
  "kernelspec": {
   "display_name": "Python 3",
   "language": "python",
   "name": "python3"
  },
  "language_info": {
   "codemirror_mode": {
    "name": "ipython",
    "version": 3
   },
   "file_extension": ".py",
   "mimetype": "text/x-python",
   "name": "python",
   "nbconvert_exporter": "python",
   "pygments_lexer": "ipython3",
   "version": "3.9.2"
  }
 },
 "nbformat": 4,
 "nbformat_minor": 5
}
